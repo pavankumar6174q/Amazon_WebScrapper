{
 "cells": [
  {
   "cell_type": "markdown",
   "id": "443b57c3-1937-4668-9b58-207b2db1f36b",
   "metadata": {},
   "source": [
    "# Amazon Web Scraper Project"
   ]
  },
  {
   "cell_type": "code",
   "execution_count": 47,
   "id": "35ea5ce3-8fd8-4e65-ba40-e3963f11e0d0",
   "metadata": {},
   "outputs": [],
   "source": [
    "#importing libraries\n",
    "\n",
    "from bs4 import BeautifulSoup\n",
    "import requests\n",
    "import time\n",
    "import datetime\n",
    "import csv\n",
    "import pandas as pd\n",
    "import smtplib\n"
   ]
  },
  {
   "cell_type": "code",
   "execution_count": 21,
   "id": "9de2b89c-c9de-461a-b73a-7e88d0a134a6",
   "metadata": {},
   "outputs": [
    {
     "name": "stdout",
     "output_type": "stream",
     "text": [
      "\n",
      "                    Jordan unisex-child Modern\n",
      "                   \n",
      "\n",
      "                      37,265\n",
      "                     \n"
     ]
    }
   ],
   "source": [
    "url = 'https://www.amazon.in/Jordan-Mid-Infrared-23-White-Sail-FB0568/dp/B0BDYFLS46/ref=sr_1_15?crid=3L7T5Q4152HBZ&dib=eyJ2IjoiMSJ9.U--SNS0jdr4STeEr_LQ8XWEmEMqqPQOYSWdk0S6VDLT050HZfnrbeHcmLJYS0xsFZIVzngUAnF0BcOGqpAUDeSAbJ1Es26O4QVdmKZrP5HSGAypHWCXRDE0EBixostvD4cdz959X45O79zTmgHT77dp-BFUVb1A0IF_wIY1hhZjvGpkR_SarzRiDEfMILj9e54jlhp0RCuc3MohEwmSHrNuIb_FeCmQZl1AMi6xDkjuOeXf_Q_0QXw_uIz8zMJ3EDwyQlqwtlG7tFmY-lwgAl1rlTX5UxBzyPcx9uHBa9xmI-GBvoCcY5aNaYlZewkwkTYbNyfQJhzzg-cVsR7mqwVKu9PSszuWb9cyeHcs_ND6emtKO-sLc0YwAn1QoiF-Zrxus1KMS8sIvhipHRfgyXrpaH5sEhvo9TFn5v7jD76_sMtyQlktQuPHTOfgMGtTC.BMJBQ317FDHpiPnawrVIBY7f61nn94eOcDrGA6GCddw&dib_tag=se&keywords=jordans&qid=1737476398&sprefix=jordans%2Caps%2C205&sr=8-15&th=1&psc=1'\n",
    "\n",
    "#get this from here :  https://httpbin.org/get\n",
    "headers = {\n",
    "    \"User-Agent\": \"Mozilla/5.0 (Windows NT 10.0; Win64; x64) AppleWebKit/537.36 (KHTML, like Gecko) Chrome/131.0.0.0 Safari/537.36\", \n",
    "    \"Accept-Encoding\": \"gzip, deflate, br\",\n",
    "    \"Accept\": \"text/html,application/xhtml+xml,application/xml;q=0.9,image/avif,image/webp,image/apng,*/*;q=0.8\",\n",
    "    \"Accept-Language\": \"en-US,en;q=0.9\",\n",
    "    \"Referer\": \"https://www.amazon.in/\",\n",
    "    \"DNT\": \"1\",\n",
    "    \"Connection\": \"keep-alive\",\n",
    "    \"Upgrade-Insecure-Requests\": \"1\"\n",
    "}\n",
    "\n",
    "page = requests.get(url, headers = headers)\n",
    "\n",
    "soup1 = BeautifulSoup(page.content, 'html.parser')\n",
    "\n",
    "#lets prettify the output\n",
    "soup2 = BeautifulSoup(soup1.prettify(), 'html.parser')\n",
    "\n",
    "title = soup2.find(id = 'productTitle').get_text()\n",
    "\n",
    "price = soup2.find(class_ =\"a-price-whole\").get_text()\n",
    "\n",
    "print(title)\n",
    "print(price)\n",
    "\n"
   ]
  },
  {
   "cell_type": "code",
   "execution_count": 79,
   "id": "6578c9be-5a81-4f00-96c8-113149b2bcd8",
   "metadata": {},
   "outputs": [
    {
     "name": "stdout",
     "output_type": "stream",
     "text": [
      "-30%\n"
     ]
    },
    {
     "data": {
      "text/plain": [
       "str"
      ]
     },
     "execution_count": 79,
     "metadata": {},
     "output_type": "execute_result"
    }
   ],
   "source": [
    "discount = soup2.find(class_ =\"a-size-large a-color-price savingPriceOverride aok-align-center reinventPriceSavingsPercentageMargin savingsPercentage\").get_text()\n",
    "discount = discount.strip()\n",
    "print(discount)\n",
    "type(discount)"
   ]
  },
  {
   "cell_type": "code",
   "execution_count": 63,
   "id": "33c7f73b-391d-4687-bfb0-7baf0bf3af93",
   "metadata": {},
   "outputs": [
    {
     "name": "stdout",
     "output_type": "stream",
     "text": [
      "2025-01-21\n"
     ]
    }
   ],
   "source": [
    "today = datetime.date.today()\n",
    "print(today)"
   ]
  },
  {
   "cell_type": "code",
   "execution_count": 65,
   "id": "4e50c326-7fd0-4311-ae42-1726aeb17f34",
   "metadata": {},
   "outputs": [
    {
     "name": "stdout",
     "output_type": "stream",
     "text": [
      "Jordan unisex-child Modern\n",
      "37,265\n"
     ]
    }
   ],
   "source": [
    "price = price.strip()\n",
    "title = title.strip()\n",
    "\n",
    "print(title)\n",
    "print(price)"
   ]
  },
  {
   "cell_type": "code",
   "execution_count": 85,
   "id": "1e8386a2-7aa7-4a5a-be84-7d4da625d5a2",
   "metadata": {},
   "outputs": [],
   "source": [
    "#adding the data into a csv file\n",
    "\n",
    "header = [\"Title\", \"Price\",\"Date\",\"Discount\"]\n",
    "data = [title,price,today,discount]\n",
    "\n",
    "with open('Amazon_WebScraper_dataset.csv', 'w' , newline='' , encoding= 'UTF8' ) as f:\n",
    "    writer = csv.writer(f)\n",
    "    writer.writerow(header)\n",
    "    writer.writerow(data)\n",
    "\n",
    "\n"
   ]
  },
  {
   "cell_type": "code",
   "execution_count": 91,
   "id": "9e713b93-9368-42e0-8afa-1b1d9e3e3d40",
   "metadata": {},
   "outputs": [
    {
     "data": {
      "text/html": [
       "<div>\n",
       "<style scoped>\n",
       "    .dataframe tbody tr th:only-of-type {\n",
       "        vertical-align: middle;\n",
       "    }\n",
       "\n",
       "    .dataframe tbody tr th {\n",
       "        vertical-align: top;\n",
       "    }\n",
       "\n",
       "    .dataframe thead th {\n",
       "        text-align: right;\n",
       "    }\n",
       "</style>\n",
       "<table border=\"1\" class=\"dataframe\">\n",
       "  <thead>\n",
       "    <tr style=\"text-align: right;\">\n",
       "      <th></th>\n",
       "      <th>Title</th>\n",
       "      <th>Price</th>\n",
       "      <th>Date</th>\n",
       "      <th>Discount</th>\n",
       "    </tr>\n",
       "  </thead>\n",
       "  <tbody>\n",
       "    <tr>\n",
       "      <th>0</th>\n",
       "      <td>Jordan unisex-child Modern</td>\n",
       "      <td>37,265</td>\n",
       "      <td>2025-01-21</td>\n",
       "      <td>-30%</td>\n",
       "    </tr>\n",
       "  </tbody>\n",
       "</table>\n",
       "</div>"
      ],
      "text/plain": [
       "                        Title   Price        Date Discount\n",
       "0  Jordan unisex-child Modern  37,265  2025-01-21     -30%"
      ]
     },
     "execution_count": 91,
     "metadata": {},
     "output_type": "execute_result"
    }
   ],
   "source": [
    "df = pd.read_csv(r\"C:\\Users\\Pavan\\Amazon_WebScraper_dataset.csv\")\n",
    "df"
   ]
  },
  {
   "cell_type": "code",
   "execution_count": 111,
   "id": "e157270a-4cc3-4749-9c4d-5a75fa168fe1",
   "metadata": {},
   "outputs": [],
   "source": [
    "#adding new data\n",
    "\n",
    "with open('Amazon_WebScraper_dataset.csv', 'a+' , newline='' , encoding= 'UTF8' ) as f:\n",
    "    writer = csv.writer(f)\n",
    "    writer.writerow(data)"
   ]
  },
  {
   "cell_type": "code",
   "execution_count": null,
   "id": "1c245b22-e9e7-4f39-a0f9-0e599d72c69c",
   "metadata": {},
   "outputs": [],
   "source": []
  },
  {
   "cell_type": "code",
   "execution_count": 105,
   "id": "8fea818f-e280-4377-8c4c-24ad6ba2cd89",
   "metadata": {},
   "outputs": [],
   "source": [
    "def get_data():\n",
    "    url = 'https://www.amazon.in/Jordan-Mid-Infrared-23-White-Sail-FB0568/dp/B0BDYFLS46/ref=sr_1_15?crid=3L7T5Q4152HBZ&dib=eyJ2IjoiMSJ9.U--SNS0jdr4STeEr_LQ8XWEmEMqqPQOYSWdk0S6VDLT050HZfnrbeHcmLJYS0xsFZIVzngUAnF0BcOGqpAUDeSAbJ1Es26O4QVdmKZrP5HSGAypHWCXRDE0EBixostvD4cdz959X45O79zTmgHT77dp-BFUVb1A0IF_wIY1hhZjvGpkR_SarzRiDEfMILj9e54jlhp0RCuc3MohEwmSHrNuIb_FeCmQZl1AMi6xDkjuOeXf_Q_0QXw_uIz8zMJ3EDwyQlqwtlG7tFmY-lwgAl1rlTX5UxBzyPcx9uHBa9xmI-GBvoCcY5aNaYlZewkwkTYbNyfQJhzzg-cVsR7mqwVKu9PSszuWb9cyeHcs_ND6emtKO-sLc0YwAn1QoiF-Zrxus1KMS8sIvhipHRfgyXrpaH5sEhvo9TFn5v7jD76_sMtyQlktQuPHTOfgMGtTC.BMJBQ317FDHpiPnawrVIBY7f61nn94eOcDrGA6GCddw&dib_tag=se&keywords=jordans&qid=1737476398&sprefix=jordans%2Caps%2C205&sr=8-15&th=1&psc=1'\n",
    "\n",
    "    #get this from here :  https://httpbin.org/get\n",
    "    headers = {\n",
    "    \"User-Agent\": \"Mozilla/5.0 (Windows NT 10.0; Win64; x64) AppleWebKit/537.36 (KHTML, like Gecko) Chrome/131.0.0.0 Safari/537.36\", \n",
    "    \"Accept-Encoding\": \"gzip, deflate, br\",\n",
    "    \"Accept\": \"text/html,application/xhtml+xml,application/xml;q=0.9,image/avif,image/webp,image/apng,*/*;q=0.8\",\n",
    "    \"Accept-Language\": \"en-US,en;q=0.9\",\n",
    "    \"Referer\": \"https://www.amazon.in/\",\n",
    "    \"DNT\": \"1\",\n",
    "    \"Connection\": \"keep-alive\",\n",
    "    \"Upgrade-Insecure-Requests\": \"1\"\n",
    "    }\n",
    "\n",
    "    page = requests.get(url, headers = headers)\n",
    "\n",
    "    soup1 = BeautifulSoup(page.content, 'html.parser')\n",
    "\n",
    "    #lets prettify the output\n",
    "    soup2 = BeautifulSoup(soup1.prettify(), 'html.parser')\n",
    "\n",
    "    title = soup2.find(id = 'productTitle').get_text()\n",
    "\n",
    "    price = soup2.find(class_ =\"a-price-whole\").get_text()\n",
    "\n",
    "    discount = soup2.find(class_ =\"a-size-large a-color-price savingPriceOverride aok-align-center reinventPriceSavingsPercentageMargin savingsPercentage\").get_text()\n",
    "    \n",
    "    today = datetime.date.today()\n",
    "    \n",
    "    discount = discount.strip()\n",
    "    price = price.strip()\n",
    "    title = title.strip()\n",
    "\n",
    "\n",
    "\n",
    "    header = [\"Title\", \"Price\",\"Date\",\"Discount\"]\n",
    "    data = [title,price,today,discount]\n",
    "\n",
    "    with open('Amazon_WebScraper_dataset.csv', 'a+' , newline='' , encoding= 'UTF8' ) as f:\n",
    "        writer = csv.writer(f)\n",
    "        writer.writerow(header)\n",
    "        writer.writerow(data)\n",
    "\n",
    "    if (price < 25000):\n",
    "        send_email()\n",
    "        "
   ]
  },
  {
   "cell_type": "code",
   "execution_count": 115,
   "id": "4423d2c2-c713-43a9-b718-ff839be9b184",
   "metadata": {},
   "outputs": [
    {
     "data": {
      "text/html": [
       "<div>\n",
       "<style scoped>\n",
       "    .dataframe tbody tr th:only-of-type {\n",
       "        vertical-align: middle;\n",
       "    }\n",
       "\n",
       "    .dataframe tbody tr th {\n",
       "        vertical-align: top;\n",
       "    }\n",
       "\n",
       "    .dataframe thead th {\n",
       "        text-align: right;\n",
       "    }\n",
       "</style>\n",
       "<table border=\"1\" class=\"dataframe\">\n",
       "  <thead>\n",
       "    <tr style=\"text-align: right;\">\n",
       "      <th></th>\n",
       "      <th>Title</th>\n",
       "      <th>Price</th>\n",
       "      <th>Date</th>\n",
       "      <th>Discount</th>\n",
       "    </tr>\n",
       "  </thead>\n",
       "  <tbody>\n",
       "    <tr>\n",
       "      <th>0</th>\n",
       "      <td>Jordan unisex-child Modern</td>\n",
       "      <td>37,265</td>\n",
       "      <td>2025-01-21</td>\n",
       "      <td>-30%</td>\n",
       "    </tr>\n",
       "    <tr>\n",
       "      <th>1</th>\n",
       "      <td>Jordan unisex-child Modern</td>\n",
       "      <td>37,265</td>\n",
       "      <td>2025-01-21</td>\n",
       "      <td>-30%</td>\n",
       "    </tr>\n",
       "    <tr>\n",
       "      <th>2</th>\n",
       "      <td>Jordan unisex-child Modern</td>\n",
       "      <td>37,265</td>\n",
       "      <td>2025-01-21</td>\n",
       "      <td>-30%</td>\n",
       "    </tr>\n",
       "  </tbody>\n",
       "</table>\n",
       "</div>"
      ],
      "text/plain": [
       "                        Title   Price        Date Discount\n",
       "0  Jordan unisex-child Modern  37,265  2025-01-21     -30%\n",
       "1  Jordan unisex-child Modern  37,265  2025-01-21     -30%\n",
       "2  Jordan unisex-child Modern  37,265  2025-01-21     -30%"
      ]
     },
     "execution_count": 115,
     "metadata": {},
     "output_type": "execute_result"
    }
   ],
   "source": [
    "df = pd.read_csv(r\"C:\\Users\\Pavan\\Amazon_WebScraper_dataset.csv\")\n",
    "df"
   ]
  },
  {
   "cell_type": "code",
   "execution_count": null,
   "id": "c53453a4-065c-440d-a187-191cca260ed2",
   "metadata": {},
   "outputs": [],
   "source": [
    "#This calls the function for every 24hrs\n",
    "while(True):\n",
    "    get_data()\n",
    "    time.sleep(86400)\n",
    "    "
   ]
  },
  {
   "cell_type": "code",
   "execution_count": null,
   "id": "b9067c18-8801-464f-bbf5-47aace55ac24",
   "metadata": {},
   "outputs": [],
   "source": [
    "def send_email():\n",
    "    server = smtplib.SMPT_SSL('smpt.gmail.com',465)\n",
    "    server.ehlo()\n",
    "    # server.starttls()\n",
    "    server.ehlo()\n",
    "    server.login('email_id','pass')\n",
    "    subject = 'The shoes are cheaper now you can buy them at discounted rate'\n",
    "    body = 'Hey mate, the shoes you have been excited about are on sale'\n",
    "    msg = f\"Subject: {subject}\\n\\n{body}\"\n",
    "    server.sendmail('email',msg)"
   ]
  },
  {
   "cell_type": "code",
   "execution_count": null,
   "id": "9459c4e8-309f-40a4-a22c-bedb1de215b3",
   "metadata": {},
   "outputs": [],
   "source": []
  },
  {
   "cell_type": "code",
   "execution_count": null,
   "id": "cd016c80-8fca-4fbf-9c75-ff64c92f49fc",
   "metadata": {},
   "outputs": [],
   "source": []
  },
  {
   "cell_type": "code",
   "execution_count": null,
   "id": "83512e40-f57a-40ab-a197-034765386ffa",
   "metadata": {},
   "outputs": [],
   "source": []
  },
  {
   "cell_type": "code",
   "execution_count": null,
   "id": "1ac1dbba-61e9-4d33-9707-c8df9f793fdd",
   "metadata": {},
   "outputs": [],
   "source": []
  },
  {
   "cell_type": "code",
   "execution_count": null,
   "id": "ff283109-ccb0-4a41-bb80-343f62b39819",
   "metadata": {},
   "outputs": [],
   "source": []
  },
  {
   "cell_type": "code",
   "execution_count": null,
   "id": "17f0497a-7576-40c3-a119-67665f77c271",
   "metadata": {},
   "outputs": [],
   "source": []
  },
  {
   "cell_type": "code",
   "execution_count": null,
   "id": "392e1b5c-68aa-4d14-aed2-e030676c5477",
   "metadata": {},
   "outputs": [],
   "source": []
  },
  {
   "cell_type": "code",
   "execution_count": null,
   "id": "fcc5bce2-dc8b-42cf-9cd3-792cc4b2c714",
   "metadata": {},
   "outputs": [],
   "source": []
  },
  {
   "cell_type": "code",
   "execution_count": null,
   "id": "5e38c05f-3391-4b99-871e-bf8c44c489bc",
   "metadata": {},
   "outputs": [],
   "source": []
  },
  {
   "cell_type": "code",
   "execution_count": null,
   "id": "aac2b36e-9479-4ccd-bc39-883eb4432eb1",
   "metadata": {},
   "outputs": [],
   "source": []
  }
 ],
 "metadata": {
  "kernelspec": {
   "display_name": "Python 3 (ipykernel)",
   "language": "python",
   "name": "python3"
  },
  "language_info": {
   "codemirror_mode": {
    "name": "ipython",
    "version": 3
   },
   "file_extension": ".py",
   "mimetype": "text/x-python",
   "name": "python",
   "nbconvert_exporter": "python",
   "pygments_lexer": "ipython3",
   "version": "3.12.4"
  }
 },
 "nbformat": 4,
 "nbformat_minor": 5
}
